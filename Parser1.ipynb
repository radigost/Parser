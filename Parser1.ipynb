{
 "cells": [
  {
   "cell_type": "code",
   "execution_count": 262,
   "metadata": {
    "collapsed": false
   },
   "outputs": [],
   "source": [
    "import requests\n",
    "from lxml import html\n",
    "\n",
    "\n",
    "\n",
    "import pandas as pd\n",
    "import numpy as np\n",
    "import matplotlib.pyplot as plt\n",
    "\n"
   ]
  },
  {
   "cell_type": "code",
   "execution_count": 263,
   "metadata": {
    "collapsed": false
   },
   "outputs": [],
   "source": [
    "# Ответ\n",
    "#print(response.status_code) # Код ответа  \n",
    "#print(response.headers) # Заголовки ответа\n",
    "#print(response.encoding)\n",
    "#print(response.text) # Тело ответа\n",
    "#print(response.request.headers) # Заголовки отправленные с запросом\n"
   ]
  },
  {
   "cell_type": "code",
   "execution_count": 264,
   "metadata": {
    "collapsed": false
   },
   "outputs": [],
   "source": [
    "def make_dataframe(response):\n",
    "    parsed_body = html.fromstring(response.text, parser = html.HTMLParser(encoding='utf-8',remove_blank_text=True))\n",
    "\n",
    "    prices1 =[pr.text.strip().replace(\"руб \",\" \") for pr in  parsed_body.xpath('//div[@class=\"about\"]')]\n",
    "    prices =[price.replace(\" руб.\",\"\").replace(\" \",\"\") for price in prices1]\n",
    "\n",
    "    print(\"Найдено Элементов\",len(prices))\n",
    "    addresses = [ad.strip() for ad in parsed_body.xpath('//p[@class=\"address fader\"]/text()')]\n",
    "\n",
    "\n",
    "    links = parsed_body.xpath('//a[@class=\"item-description-title-link\"]/@href')\n",
    "    names = [name.strip() for name in parsed_body.xpath('//a[@class=\"item-description-title-link\"]/text()')]\n",
    "    square_meters = [a.split(\" \")[2] for a in names]\n",
    "    floors = [a.split(\" \")[4].split('/')[0] for a in names]\n",
    "    total_floors=[a.split(\" \")[4].split('/')[1] for a in names]\n",
    "    rooms=[a[0] for a in names]\n",
    "    df = pd.DataFrame({ #'Name' :  pd.Series([name for name in names]),\n",
    "                     'Address' : pd.Series([name for name in addresses]),\n",
    "                     'Price' :  pd.Series([name for name in prices]),\n",
    "                     'Link' : pd.Series(['https://www.avito.ru'+name for name in links]),\n",
    "                       'Square_meters':pd.Series(square_meters),\n",
    "                       'Floor':pd.Series(floors),\n",
    "                       'Total Floors':pd.Series(total_floors),\n",
    "                       'Rooms':pd.Series(rooms),\n",
    "                   })\n",
    "    return df\n"
   ]
  },
  {
   "cell_type": "code",
   "execution_count": 278,
   "metadata": {
    "collapsed": false,
    "scrolled": true
   },
   "outputs": [
    {
     "name": "stdout",
     "output_type": "stream",
     "text": [
      "Найдено Элементов 50\n",
      "0\n",
      "Найдено Элементов 50\n",
      "1\n",
      "Найдено Элементов 50\n",
      "2\n",
      "Найдено Элементов 50\n",
      "3\n",
      "Найдено Элементов 50\n",
      "4\n",
      "Найдено Элементов 18\n",
      "5\n"
     ]
    }
   ],
   "source": [
    "i = 0\n",
    "r = 'https://www.avito.ru/saratov/kvartiry/prodam/3-komnatnye?p='+str(i)+'&district=28'\n",
    "response = requests.get(r)\n",
    "while (response.status_code==200):\n",
    "    df = make_dataframe(response)\n",
    "    df.to_csv('dataset.csv', mode='a', header=False,sep=';',index=False)\n",
    "    print(i)\n",
    "    i=i+1\n",
    "    r = 'https://www.avito.ru/saratov/kvartiry/prodam/3-komnatnye?p='+str(i)+'&district=28'\n",
    "    response = requests.get(r)\n",
    "\n",
    "\n"
   ]
  },
  {
   "cell_type": "code",
   "execution_count": 270,
   "metadata": {
    "collapsed": false
   },
   "outputs": [],
   "source": [
    "\n",
    "df.to_csv('dataset.csv', mode='a', header=False,sep=';',index=False)"
   ]
  },
  {
   "cell_type": "code",
   "execution_count": null,
   "metadata": {
    "collapsed": true
   },
   "outputs": [],
   "source": []
  },
  {
   "cell_type": "code",
   "execution_count": null,
   "metadata": {
    "collapsed": true
   },
   "outputs": [],
   "source": []
  },
  {
   "cell_type": "code",
   "execution_count": null,
   "metadata": {
    "collapsed": true
   },
   "outputs": [],
   "source": []
  }
 ],
 "metadata": {
  "anaconda-cloud": {},
  "kernelspec": {
   "display_name": "Python [conda root]",
   "language": "python",
   "name": "conda-root-py"
  },
  "language_info": {
   "codemirror_mode": {
    "name": "ipython",
    "version": 3
   },
   "file_extension": ".py",
   "mimetype": "text/x-python",
   "name": "python",
   "nbconvert_exporter": "python",
   "pygments_lexer": "ipython3",
   "version": "3.5.2"
  }
 },
 "nbformat": 4,
 "nbformat_minor": 1
}
